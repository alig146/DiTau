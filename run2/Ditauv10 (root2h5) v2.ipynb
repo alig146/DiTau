{
 "cells": [
  {
   "cell_type": "code",
   "execution_count": 1,
   "id": "20e715e9",
   "metadata": {},
   "outputs": [
    {
     "name": "stdout",
     "output_type": "stream",
     "text": [
      "Welcome to JupyROOT 6.30/04\n"
     ]
    }
   ],
   "source": [
    "import uproot, ROOT, glob, os, random\n",
    "import numpy as np\n",
    "import awkward as ak\n",
    "from tqdm import tqdm\n",
    "import h5py"
   ]
  },
  {
   "cell_type": "code",
   "execution_count": 2,
   "id": "c07c2dfb",
   "metadata": {},
   "outputs": [
    {
     "name": "stdout",
     "output_type": "stream",
     "text": [
      "user.agarabag.37967681._000001.ntuple.root\r\n",
      "user.agarabag.37967681._000002.ntuple.root\r\n",
      "user.agarabag.37967681._000003.ntuple.root\r\n",
      "user.agarabag.37967681._000004.ntuple.root\r\n",
      "user.agarabag.37967681._000005.ntuple.root\r\n",
      "user.agarabag.37967681._000006.ntuple.root\r\n",
      "user.agarabag.37967681._000007.ntuple.root\r\n"
     ]
    }
   ],
   "source": [
    "!ls /eos/home-a/agarabag/ditau/user.agarabag.VHTauTau.802168.Py8EG_A14NNPDF23LO_VHtautau_flatmasspTFilt_hadhad_v1_ntuple.root"
   ]
  },
  {
   "cell_type": "code",
   "execution_count": 11,
   "id": "96653b89",
   "metadata": {},
   "outputs": [],
   "source": [
    "def uproot_open(file_path, branches):\n",
    "    f_1 = uproot.open(file_path)\n",
    "    f1 = f_1.arrays(branches, library='ak')\n",
    "    return f1"
   ]
  },
  {
   "cell_type": "code",
   "execution_count": 20,
   "id": "78c7cf1e",
   "metadata": {},
   "outputs": [
    {
     "name": "stdout",
     "output_type": "stream",
     "text": [
      "/eos/home-a/agarabag/ditau/user.agarabag.VHTauTau.802168.Py8EG_A14NNPDF23LO_VHtautau_flatmasspTFilt_hadhad_v1_ntuple.root/user.agarabag.37967681._000001.ntuple.root\n",
      "/eos/home-a/agarabag/ditau/user.agarabag.VHTauTau.802168.Py8EG_A14NNPDF23LO_VHtautau_flatmasspTFilt_hadhad_v1_ntuple.root/user.agarabag.37967681._000002.ntuple.root\n",
      "/eos/home-a/agarabag/ditau/user.agarabag.VHTauTau.802168.Py8EG_A14NNPDF23LO_VHtautau_flatmasspTFilt_hadhad_v1_ntuple.root/user.agarabag.37967681._000003.ntuple.root\n",
      "/eos/home-a/agarabag/ditau/user.agarabag.VHTauTau.802168.Py8EG_A14NNPDF23LO_VHtautau_flatmasspTFilt_hadhad_v1_ntuple.root/user.agarabag.37967681._000004.ntuple.root\n",
      "/eos/home-a/agarabag/ditau/user.agarabag.VHTauTau.802168.Py8EG_A14NNPDF23LO_VHtautau_flatmasspTFilt_hadhad_v1_ntuple.root/user.agarabag.37967681._000005.ntuple.root\n",
      "/eos/home-a/agarabag/ditau/user.agarabag.VHTauTau.802168.Py8EG_A14NNPDF23LO_VHtautau_flatmasspTFilt_hadhad_v1_ntuple.root/user.agarabag.37967681._000006.ntuple.root\n",
      "/eos/home-a/agarabag/ditau/user.agarabag.VHTauTau.802168.Py8EG_A14NNPDF23LO_VHtautau_flatmasspTFilt_hadhad_v1_ntuple.root/user.agarabag.37967681._000007.ntuple.root\n"
     ]
    },
    {
     "ename": "IndexError",
     "evalue": "list index out of range",
     "output_type": "error",
     "traceback": [
      "\u001b[0;31m---------------------------------------------------------------------------\u001b[0m",
      "\u001b[0;31mIndexError\u001b[0m                                Traceback (most recent call last)",
      "\u001b[0;32m/tmp/ipykernel_530/2443105941.py\u001b[0m in \u001b[0;36m<module>\u001b[0;34m\u001b[0m\n\u001b[1;32m     18\u001b[0m \u001b[0mprint\u001b[0m\u001b[0;34m(\u001b[0m\u001b[0mList\u001b[0m\u001b[0;34m[\u001b[0m\u001b[0;36m6\u001b[0m\u001b[0;34m]\u001b[0m\u001b[0;34m)\u001b[0m\u001b[0;34m\u001b[0m\u001b[0;34m\u001b[0m\u001b[0m\n\u001b[1;32m     19\u001b[0m \u001b[0mf6\u001b[0m \u001b[0;34m=\u001b[0m \u001b[0muproot_open\u001b[0m\u001b[0;34m(\u001b[0m\u001b[0mList\u001b[0m\u001b[0;34m[\u001b[0m\u001b[0;36m6\u001b[0m\u001b[0;34m]\u001b[0m\u001b[0;34m+\u001b[0m\u001b[0;34m':CollectionTree'\u001b[0m\u001b[0;34m,\u001b[0m \u001b[0mbranches\u001b[0m\u001b[0;34m)\u001b[0m\u001b[0;34m\u001b[0m\u001b[0;34m\u001b[0m\u001b[0m\n\u001b[0;32m---> 20\u001b[0;31m \u001b[0mprint\u001b[0m\u001b[0;34m(\u001b[0m\u001b[0mList\u001b[0m\u001b[0;34m[\u001b[0m\u001b[0;36m7\u001b[0m\u001b[0;34m]\u001b[0m\u001b[0;34m)\u001b[0m\u001b[0;34m\u001b[0m\u001b[0;34m\u001b[0m\u001b[0m\n\u001b[0m\u001b[1;32m     21\u001b[0m \u001b[0mf7\u001b[0m \u001b[0;34m=\u001b[0m \u001b[0muproot_open\u001b[0m\u001b[0;34m(\u001b[0m\u001b[0mList\u001b[0m\u001b[0;34m[\u001b[0m\u001b[0;36m7\u001b[0m\u001b[0;34m]\u001b[0m\u001b[0;34m+\u001b[0m\u001b[0;34m':CollectionTree'\u001b[0m\u001b[0;34m,\u001b[0m \u001b[0mbranches\u001b[0m\u001b[0;34m)\u001b[0m\u001b[0;34m\u001b[0m\u001b[0;34m\u001b[0m\u001b[0m\n",
      "\u001b[0;31mIndexError\u001b[0m: list index out of range"
     ]
    }
   ],
   "source": [
    "path = '/eos/home-a/agarabag/ditau/user.agarabag.VHTauTau.802168.Py8EG_A14NNPDF23LO_VHtautau_flatmasspTFilt_hadhad_v1_ntuple.root/'\n",
    "file_paths = path+'user.agarabag.*.ntuple.root'\n",
    "List = glob.glob(os.path.join(file_paths))\n",
    "def read(List2):\n",
    "    return uproot_open(List[0]+':CollectionTree', branches)\n",
    "print(List[0])\n",
    "f0 = uproot_open(List[0]+':CollectionTree', branches)\n",
    "print(List[1])\n",
    "f1 = uproot_open(List[1]+':CollectionTree', branches)\n",
    "print(List[2])\n",
    "f2 = uproot_open(List[2]+':CollectionTree', branches)\n",
    "print(List[3])\n",
    "f3 = uproot_open(List[3]+':CollectionTree', branches)\n",
    "print(List[4])\n",
    "f4 = uproot_open(List[4]+':CollectionTree', branches)\n",
    "print(List[5])\n",
    "f5 = uproot_open(List[5]+':CollectionTree', branches)\n",
    "print(List[6])\n",
    "f6 = uproot_open(List[6]+':CollectionTree', branches)"
   ]
  },
  {
   "cell_type": "code",
   "execution_count": 24,
   "id": "58bdae8e",
   "metadata": {},
   "outputs": [],
   "source": [
    "t = ak.concatenate((f0, f1, f2, f3, f4, f5, f6))"
   ]
  },
  {
   "cell_type": "code",
   "execution_count": 25,
   "id": "494dcc3d",
   "metadata": {},
   "outputs": [],
   "source": [
    "loc1 = ak.where((ak.flatten(t['ditau_IsTruthHadronic'])==1))[0]\n",
    "loc2 = ak.where((ak.flatten(t['ditau_IsTruthHadronic'])==1)&\\\n",
    " (ak.flatten(t['ditau_n_subjets'])>=2))[0]\n",
    "loc3 = ak.where((ak.flatten(t['ditau_IsTruthHadronic'])==1)&\\\n",
    " (ak.flatten(t['ditau_n_subjets'])>=2)&\\\n",
    "  (ak.flatten(t['ditau_ditau_pt']) >= 2e5)&\\\n",
    "   (ak.flatten(t['ditau_ditau_pt']) <= 1e6))[0]\n",
    "loc4 = ak.where((ak.flatten(t['ditau_IsTruthHadronic'])==1)&\\\n",
    " (ak.flatten(t['ditau_n_subjets'])>=2)&\\\n",
    "  (ak.flatten(t['ditau_ditau_pt']) >= 2e5)&\\\n",
    "   (ak.flatten(t['ditau_ditau_pt']) <= 1e6)&\\\n",
    "    ((ak.flatten(t['ditau_n_tracks_lead'])==1)&(ak.flatten(t['ditau_n_tracks_subl'])==3)|\\\n",
    "     (ak.flatten(t['ditau_n_tracks_lead'])==3)&(ak.flatten(t['ditau_n_tracks_subl'])==1) ))[0]"
   ]
  },
  {
   "cell_type": "code",
   "execution_count": 36,
   "id": "30360dbb",
   "metadata": {},
   "outputs": [
    {
     "data": {
      "text/plain": [
       "(19989038, 8455251, 8455251, 7643449, 1869582)"
      ]
     },
     "execution_count": 36,
     "metadata": {},
     "output_type": "execute_result"
    }
   ],
   "source": [
    "len(t), len(loc1), len(loc2), len(loc3), len(loc4)"
   ]
  },
  {
   "cell_type": "code",
   "execution_count": 34,
   "id": "488abcd9",
   "metadata": {},
   "outputs": [],
   "source": [
    "loc_1p1p = ak.where((ak.flatten(t['ditau_IsTruthHadronic'])==1)&\\\n",
    " (ak.flatten(t['ditau_n_subjets'])>=2)&\\\n",
    "  (ak.flatten(t['ditau_ditau_pt']) >= 2e5)&\\\n",
    "   (ak.flatten(t['ditau_ditau_pt']) <= 1e6)&\\\n",
    "    ((ak.flatten(t['ditau_n_tracks_lead']) == 1) & (ak.flatten(t['ditau_n_tracks_subl']) == 1)))[0]\n",
    "\n",
    "loc_3p3p = ak.where((ak.flatten(t['ditau_IsTruthHadronic'])==1)&\\\n",
    " (ak.flatten(t['ditau_n_subjets'])>=2)&\\\n",
    "  (ak.flatten(t['ditau_ditau_pt']) >= 2e5)&\\\n",
    "   (ak.flatten(t['ditau_ditau_pt']) <= 1e6)&\\\n",
    "    ((ak.flatten(t['ditau_n_tracks_lead']) == 3) & (ak.flatten(t['ditau_n_tracks_subl']) == 3)))[0]\n",
    "\n",
    "loc_1p3p = ak.where((ak.flatten(t['ditau_IsTruthHadronic'])==1)&\\\n",
    " (ak.flatten(t['ditau_n_subjets'])>=2)&\\\n",
    "  (ak.flatten(t['ditau_ditau_pt']) >= 2e5)&\\\n",
    "   (ak.flatten(t['ditau_ditau_pt']) <= 1e6)&\\\n",
    "    ((ak.flatten(t['ditau_n_tracks_lead'])==1)&(ak.flatten(t['ditau_n_tracks_subl'])==3)|\\\n",
    "     (ak.flatten(t['ditau_n_tracks_lead'])==3)&(ak.flatten(t['ditau_n_tracks_subl'])==1) ))[0]"
   ]
  },
  {
   "cell_type": "code",
   "execution_count": 38,
   "id": "addf2e19",
   "metadata": {},
   "outputs": [
    {
     "data": {
      "text/plain": [
       "(2642631, 329969, 1869582)"
      ]
     },
     "execution_count": 38,
     "metadata": {},
     "output_type": "execute_result"
    }
   ],
   "source": [
    "len(loc_1p1p), len(loc_3p3p), len(loc_1p3p)"
   ]
  },
  {
   "cell_type": "code",
   "execution_count": 5,
   "id": "87621f6b",
   "metadata": {},
   "outputs": [
    {
     "data": {
      "text/plain": [
       "['mcChannelNumber',\n",
       " 'mcEventNumber',\n",
       " 'mcEventWeights',\n",
       " 'actualInteractionsPerCrossing',\n",
       " 'averageInteractionsPerCrossing',\n",
       " 'Truth_Tau_pt_vis',\n",
       " 'Truth_Tau_eta_vis',\n",
       " 'Truth_Tau_phi_vis',\n",
       " 'Truth_Tau_m_vis',\n",
       " 'Truth_Tau_pt_invis',\n",
       " 'Truth_Tau_eta_invis',\n",
       " 'Truth_Tau_phi_invis',\n",
       " 'Truth_Tau_m_invis',\n",
       " 'Truth_Tau_numNeutral',\n",
       " 'Truth_Tau_numCharged',\n",
       " 'Truth_Tau_IsHadronicTau',\n",
       " 'tau_pt',\n",
       " 'tau_eta',\n",
       " 'tau_phi',\n",
       " 'tau_e',\n",
       " 'ditau_idx',\n",
       " 'ditau_pt',\n",
       " 'ditau_eta',\n",
       " 'ditau_phi',\n",
       " 'ditau_e',\n",
       " 'ditau_subjet_pt',\n",
       " 'ditau_subjet_eta',\n",
       " 'ditau_subjet_phi',\n",
       " 'ditau_subjet_e',\n",
       " 'ditau_BDTScore',\n",
       " 'ditau_BDTScoreNew',\n",
       " 'ditau_E_frac_subl',\n",
       " 'ditau_E_frac_subsubl',\n",
       " 'ditau_IsTruthHadEl',\n",
       " 'ditau_IsTruthHadMu',\n",
       " 'ditau_IsTruthHadronic',\n",
       " 'ditau_IsTruthMatched',\n",
       " 'ditau_R_core',\n",
       " 'ditau_R_core_lead',\n",
       " 'ditau_R_core_subl',\n",
       " 'ditau_R_isotrack',\n",
       " 'ditau_R_jet',\n",
       " 'ditau_R_max_lead',\n",
       " 'ditau_R_max_subl',\n",
       " 'ditau_R_subjet',\n",
       " 'ditau_R_subjets_subl',\n",
       " 'ditau_R_subjets_subsubl',\n",
       " 'ditau_R_track',\n",
       " 'ditau_R_track_all',\n",
       " 'ditau_R_track_core',\n",
       " 'ditau_R_tracks_lead',\n",
       " 'ditau_R_tracks_subl',\n",
       " 'ditau_TauJetVtxFraction',\n",
       " 'ditau_classifierParticleOriginTruthLepton',\n",
       " 'ditau_classifierParticleTypeTruthLepton',\n",
       " 'ditau_d0_leadtrack_lead',\n",
       " 'ditau_d0_leadtrack_subl',\n",
       " 'ditau_ditau_pt',\n",
       " 'ditau_f_clusters',\n",
       " 'ditau_f_core_lead',\n",
       " 'ditau_f_core_subl',\n",
       " 'ditau_f_isotracks',\n",
       " 'ditau_f_subjet_lead',\n",
       " 'ditau_f_subjet_subl',\n",
       " 'ditau_f_subjets',\n",
       " 'ditau_f_track_lead',\n",
       " 'ditau_f_track_subl',\n",
       " 'ditau_m',\n",
       " 'ditau_m_core_lead',\n",
       " 'ditau_m_core_subl',\n",
       " 'ditau_m_track',\n",
       " 'ditau_m_track_all',\n",
       " 'ditau_m_track_core',\n",
       " 'ditau_m_tracks_lead',\n",
       " 'ditau_m_tracks_subl',\n",
       " 'ditau_mu_massdrop',\n",
       " 'ditau_n_antikt_subjets',\n",
       " 'ditau_n_ca_subjets',\n",
       " 'ditau_n_iso_ellipse',\n",
       " 'ditau_n_isotrack',\n",
       " 'ditau_n_subjets',\n",
       " 'ditau_n_track',\n",
       " 'ditau_n_tracks',\n",
       " 'ditau_n_tracks_lead',\n",
       " 'ditau_n_tracks_subl',\n",
       " 'ditau_subjet_f_core',\n",
       " 'ditau_y_massdrop',\n",
       " 'ditau_TruthVisDeltaR',\n",
       " 'ditau_TruthVisLeadPt',\n",
       " 'ditau_TruthVisSubleadPt',\n",
       " 'beamSpotWeight',\n",
       " 'TruthType',\n",
       " 'dtIdx',\n",
       " 'truthJetType',\n",
       " 'd0TJVA',\n",
       " 'z0TJVA',\n",
       " 'trkType',\n",
       " 'charge',\n",
       " 'truthParticleOrigin',\n",
       " 'truthParticleType',\n",
       " 'trackPt',\n",
       " 'trackEta',\n",
       " 'trackPhi',\n",
       " 'numberOfInnermostPixelLayerHits',\n",
       " 'numberOfPixelHits',\n",
       " 'numberOfPixelSharedHits',\n",
       " 'numberOfPixelDeadSensors',\n",
       " 'numberOfSCTHits',\n",
       " 'numberOfSCTSharedHits',\n",
       " 'numberOfSCTDeadSensors',\n",
       " 'numberOfTRTHighThresholdHits',\n",
       " 'numberOfTRTHits',\n",
       " 'expectInnermostPixelLayerHit',\n",
       " 'expectNextToInnermostPixelLayerHit',\n",
       " 'numberOfContribPixelLayers',\n",
       " 'numberOfPixelHoles',\n",
       " 'numberOfSCTHoles',\n",
       " 'qOverP',\n",
       " 'theta',\n",
       " 'eProbabilityHT',\n",
       " 'eProbabilityHT_offl',\n",
       " 'eProbabilityNN_offl',\n",
       " 'eProbabilityNNorHT_offl',\n",
       " 'eProbabilityNN',\n",
       " 'eProbabilityNNorHT']"
      ]
     },
     "execution_count": 5,
     "metadata": {},
     "output_type": "execute_result"
    }
   ],
   "source": [
    "f = uproot.open('/eos/home-a/agarabag/ditau/user.agarabag.VHTauTau.802168.Py8EG_A14NNPDF23LO_VHtautau_flatmasspTFilt_hadhad_v1_ntuple.root/user.agarabag.37967681._000001.ntuple.root:/CollectionTree')\n",
    "f.keys()"
   ]
  },
  {
   "cell_type": "code",
   "execution_count": 8,
   "id": "f4bbbf2b",
   "metadata": {},
   "outputs": [],
   "source": [
    "branches = ['mcEventNumber',\n",
    "            'ditau_BDTScore',\n",
    "            'ditau_BDTScoreNew',\n",
    "            'ditau_ditau_pt',\n",
    "            'ditau_n_subjets',\n",
    "            'mcEventWeights',\n",
    "            'ditau_IsTruthHadronic',\n",
    "            'ditau_n_tracks_lead',\n",
    "            'ditau_n_tracks_subl',\n",
    "            'ditau_R_max_lead', 'ditau_R_max_subl',\n",
    "            'ditau_R_tracks_subl', 'ditau_R_isotrack', \n",
    "            'ditau_d0_leadtrack_lead', 'ditau_d0_leadtrack_subl',\n",
    "            'ditau_f_core_lead', 'ditau_f_core_subl', 'ditau_f_subjet_subl',\n",
    "            'ditau_f_subjets', 'ditau_f_isotracks', \n",
    "            'ditau_m_core_lead', 'ditau_m_core_subl', \n",
    "            'ditau_m_tracks_lead', 'ditau_m_tracks_subl', 'ditau_n_track',\n",
    "            'averageInteractionsPerCrossing', 'ditau_eta']\n",
    "\n",
    "t = f.arrays(branches, library='ak')"
   ]
  },
  {
   "cell_type": "code",
   "execution_count": 9,
   "id": "065b3616",
   "metadata": {},
   "outputs": [
    {
     "data": {
      "text/plain": [
       "<Array [[2], [2], [], [2, ... [1], [1], [2]] type='559976 * var * int32'>"
      ]
     },
     "execution_count": 9,
     "metadata": {},
     "output_type": "execute_result"
    }
   ],
   "source": [
    "t['ditau_n_subjets']"
   ]
  },
  {
   "cell_type": "code",
   "execution_count": 11,
   "id": "c6b05525",
   "metadata": {},
   "outputs": [
    {
     "name": "stderr",
     "output_type": "stream",
     "text": [
      "  0%|          | 0/7 [00:00<?, ?it/s]"
     ]
    },
    {
     "name": "stdout",
     "output_type": "stream",
     "text": [
      "processing:  /eos/home-a/agarabag/ditau/user.agarabag.VHTauTau.802168.Py8EG_A14NNPDF23LO_VHtautau_flatmasspTFilt_hadhad_v1_ntuple.root/user.agarabag.37967681._000001.ntuple.root\n"
     ]
    },
    {
     "name": "stderr",
     "output_type": "stream",
     "text": [
      " 14%|█▍        | 1/7 [00:46<04:37, 46.20s/it]"
     ]
    },
    {
     "name": "stdout",
     "output_type": "stream",
     "text": [
      "processing:  /eos/home-a/agarabag/ditau/user.agarabag.VHTauTau.802168.Py8EG_A14NNPDF23LO_VHtautau_flatmasspTFilt_hadhad_v1_ntuple.root/user.agarabag.37967681._000002.ntuple.root\n"
     ]
    },
    {
     "name": "stderr",
     "output_type": "stream",
     "text": [
      " 29%|██▊       | 2/7 [01:38<04:09, 49.95s/it]"
     ]
    },
    {
     "name": "stdout",
     "output_type": "stream",
     "text": [
      "processing:  /eos/home-a/agarabag/ditau/user.agarabag.VHTauTau.802168.Py8EG_A14NNPDF23LO_VHtautau_flatmasspTFilt_hadhad_v1_ntuple.root/user.agarabag.37967681._000003.ntuple.root\n"
     ]
    },
    {
     "name": "stderr",
     "output_type": "stream",
     "text": [
      " 43%|████▎     | 3/7 [02:19<03:03, 45.95s/it]"
     ]
    },
    {
     "name": "stdout",
     "output_type": "stream",
     "text": [
      "processing:  /eos/home-a/agarabag/ditau/user.agarabag.VHTauTau.802168.Py8EG_A14NNPDF23LO_VHtautau_flatmasspTFilt_hadhad_v1_ntuple.root/user.agarabag.37967681._000004.ntuple.root\n"
     ]
    },
    {
     "name": "stderr",
     "output_type": "stream",
     "text": [
      " 57%|█████▋    | 4/7 [09:24<09:45, 195.24s/it]"
     ]
    },
    {
     "name": "stdout",
     "output_type": "stream",
     "text": [
      "processing:  /eos/home-a/agarabag/ditau/user.agarabag.VHTauTau.802168.Py8EG_A14NNPDF23LO_VHtautau_flatmasspTFilt_hadhad_v1_ntuple.root/user.agarabag.37967681._000005.ntuple.root\n"
     ]
    },
    {
     "name": "stderr",
     "output_type": "stream",
     "text": [
      " 71%|███████▏  | 5/7 [17:06<09:43, 291.74s/it]"
     ]
    },
    {
     "name": "stdout",
     "output_type": "stream",
     "text": [
      "processing:  /eos/home-a/agarabag/ditau/user.agarabag.VHTauTau.802168.Py8EG_A14NNPDF23LO_VHtautau_flatmasspTFilt_hadhad_v1_ntuple.root/user.agarabag.37967681._000006.ntuple.root\n"
     ]
    },
    {
     "name": "stderr",
     "output_type": "stream",
     "text": [
      " 86%|████████▌ | 6/7 [24:09<05:36, 336.21s/it]"
     ]
    },
    {
     "name": "stdout",
     "output_type": "stream",
     "text": [
      "processing:  /eos/home-a/agarabag/ditau/user.agarabag.VHTauTau.802168.Py8EG_A14NNPDF23LO_VHtautau_flatmasspTFilt_hadhad_v1_ntuple.root/user.agarabag.37967681._000007.ntuple.root\n"
     ]
    },
    {
     "name": "stderr",
     "output_type": "stream",
     "text": [
      "100%|██████████| 7/7 [28:32<00:00, 244.61s/it]\n"
     ]
    }
   ],
   "source": [
    "from tqdm import tqdm\n",
    "#!rm -rf /eos/user/j/jlai/signal/boosted_h_flattened.h5\n",
    "path = '/eos/home-a/agarabag/ditau/user.agarabag.VHTauTau.802168.Py8EG_A14NNPDF23LO_VHtautau_flatmasspTFilt_hadhad_v1_ntuple.root/'\n",
    "file_paths = [path+'user.agarabag.*.ntuple.root']\n",
    "branches = ['mcEventNumber',\n",
    "            'ditau_BDTScore',\n",
    "            'ditau_BDTScoreNew',\n",
    "            'ditau_ditau_pt',\n",
    "            'ditau_n_subjets',\n",
    "            'mcEventWeights',\n",
    "            'ditau_IsTruthHadronic',\n",
    "            'ditau_n_tracks_lead',\n",
    "            'ditau_n_tracks_subl',\n",
    "            'ditau_R_max_lead', 'ditau_R_max_subl',\n",
    "            'ditau_R_tracks_subl', 'ditau_R_isotrack', \n",
    "            'ditau_d0_leadtrack_lead', 'ditau_d0_leadtrack_subl',\n",
    "            'ditau_f_core_lead', 'ditau_f_core_subl', 'ditau_f_subjet_subl',\n",
    "            'ditau_f_subjets', 'ditau_f_isotracks', \n",
    "            'ditau_m_core_lead', 'ditau_m_core_subl', \n",
    "            'ditau_m_tracks_lead', 'ditau_m_tracks_subl', 'ditau_n_track',\n",
    "            'averageInteractionsPerCrossing', 'ditau_eta']\n",
    "\n",
    "#mass = [1000, 1500, 1750, 2000, 2250, 2500, 3000, 4000, 5000]\n",
    "for index in range(len(file_paths)):\n",
    "    l1 = glob.glob(os.path.join(file_paths[index]))\n",
    "    \n",
    "    ditau_pt = []\n",
    "    n_subjets = []\n",
    "    IsTruthHadronic = []\n",
    "    n_tracks_lead = []\n",
    "    n_tracks_subl = []\n",
    "    R_max_lead = []\n",
    "    R_max_subl = []\n",
    "    R_tracks_subl = []\n",
    "    R_isotrack = []\n",
    "    d0_leadtrack_lead = []\n",
    "    d0_leadtrack_subl = []\n",
    "    f_core_lead = []\n",
    "    f_core_subl = []\n",
    "    f_subjet_subl = []\n",
    "    f_subjets = []\n",
    "    f_isotracks = []\n",
    "    m_core_lead = []\n",
    "    m_core_subl = []\n",
    "    m_tracks_lead = []\n",
    "    m_tracks_subl = []\n",
    "    n_track = []\n",
    "    event_weight = []\n",
    "    event_weight_sum = []\n",
    "    bdt_score = []\n",
    "    bdt_score_new = []\n",
    "    event_id = []\n",
    "    eta = []\n",
    "    average_mu = []\n",
    "    \n",
    "    for i in range(len(l1)):\n",
    "        print(\"processing: \", l1[i])\n",
    "        f_1 = uproot.open(l1[i]+':CollectionTree')\n",
    "        events = f_1.arrays(branches, library='ak')\n",
    "\n",
    "        flatten_event_weight = np.repeat(ak.firsts(events['mcEventWeights']), ak.num(events['ditau_ditau_pt']))\n",
    "        flatten_event_id = np.repeat(events['mcEventNumber'], ak.num(events['ditau_ditau_pt']))\n",
    "        flatten_avg_mu = np.repeat(events['averageInteractionsPerCrossing'], ak.num(events['ditau_ditau_pt']))\n",
    "        \n",
    "        event_id.append(flatten_event_id)\n",
    "        average_mu.append(flatten_avg_mu)\n",
    "        eta.append(ak.flatten(events['ditau_eta']))\n",
    "        bdt_score.append(ak.flatten(events['ditau_BDTScore']))\n",
    "        bdt_score_new.append(ak.flatten(events['ditau_BDTScoreNew']))\n",
    "        ditau_pt.append(ak.flatten(events['ditau_ditau_pt']))\n",
    "        n_subjets.append(ak.flatten(events['ditau_n_subjets']))\n",
    "        IsTruthHadronic.append(ak.flatten(events['ditau_IsTruthHadronic']))\n",
    "        n_tracks_lead.append(ak.flatten(events['ditau_n_tracks_lead']))\n",
    "        n_tracks_subl.append(ak.flatten(events['ditau_n_tracks_subl']))\n",
    "        R_max_lead.append(ak.flatten(events['ditau_R_max_lead']))\n",
    "        R_max_subl.append(ak.flatten(events['ditau_R_max_subl']))\n",
    "        R_tracks_subl.append(ak.flatten(events['ditau_R_tracks_subl']))\n",
    "        R_isotrack.append(ak.flatten(events['ditau_R_isotrack']))\n",
    "        d0_leadtrack_lead.append(ak.flatten(events['ditau_d0_leadtrack_lead']))\n",
    "        d0_leadtrack_subl.append(ak.flatten(events['ditau_d0_leadtrack_subl']))\n",
    "        f_core_lead.append(ak.flatten(events['ditau_f_core_lead']))\n",
    "        f_core_subl.append(ak.flatten(events['ditau_f_core_subl']))\n",
    "        f_subjet_subl.append(ak.flatten(events['ditau_f_subjet_subl']))\n",
    "        f_subjets.append(ak.flatten(events['ditau_f_subjets']))\n",
    "        f_isotracks.append(ak.flatten(events['ditau_f_isotracks']))\n",
    "        m_core_lead.append(ak.flatten(events['ditau_m_core_lead']))\n",
    "        m_core_subl.append(ak.flatten(events['ditau_m_core_subl']))\n",
    "        m_tracks_lead.append(ak.flatten(events['ditau_m_tracks_lead']))\n",
    "        m_tracks_subl.append(ak.flatten(events['ditau_m_tracks_subl']))\n",
    "        n_track.append(ak.flatten(events['ditau_n_track']))\n",
    "        event_weight.append(flatten_event_weight)\n",
    "        event_weight_sum.append(ak.sum(ak.firsts(events['mcEventWeights'])))\n",
    "        \n",
    "\n",
    "    # Create an H5 file\n",
    "#     h5_file = h5py.File(f'/eos/user/j/jlai/signal/graviton_flattened_M{mass[index]}.h5', 'w')\n",
    "    h5_file = h5py.File(f'/eos/user/j/jlai/signal/boosted_h_flattened.h5', 'w')\n",
    "    # Create datasets in the H5 file\n",
    "    h5_file.create_dataset('event_id', data=ak.to_numpy(ak.concatenate(event_id)), compression='gzip')\n",
    "    h5_file.create_dataset('eta', data=ak.to_numpy(ak.concatenate(eta)), compression='gzip')\n",
    "    h5_file.create_dataset('average_mu', data=ak.to_numpy(ak.concatenate(average_mu)), compression='gzip')\n",
    "    h5_file.create_dataset('bdt_score', data=ak.to_numpy(ak.concatenate(bdt_score)), compression='gzip')\n",
    "    h5_file.create_dataset('bdt_score_new', data=ak.to_numpy(ak.concatenate(bdt_score_new)), compression='gzip')\n",
    "    h5_file.create_dataset('ditau_pt', data=ak.to_numpy(ak.concatenate(ditau_pt)), compression='gzip')\n",
    "    h5_file.create_dataset('n_subjets', data=ak.to_numpy(ak.concatenate(n_subjets)), compression='gzip')\n",
    "    h5_file.create_dataset('IsTruthHadronic', data=ak.to_numpy(ak.concatenate(IsTruthHadronic)), compression='gzip')\n",
    "    h5_file.create_dataset('n_tracks_lead', data=ak.to_numpy(ak.concatenate(n_tracks_lead)), compression='gzip')\n",
    "    h5_file.create_dataset('n_tracks_subl', data=ak.to_numpy(ak.concatenate(n_tracks_subl)), compression='gzip')\n",
    "    h5_file.create_dataset('R_max_lead', data=ak.to_numpy(ak.concatenate(R_max_lead)), compression='gzip')\n",
    "    h5_file.create_dataset('R_max_subl', data=ak.to_numpy(ak.concatenate(R_max_subl)), compression='gzip')\n",
    "    h5_file.create_dataset('R_tracks_subl', data=ak.to_numpy(ak.concatenate(R_tracks_subl)), compression='gzip')\n",
    "    h5_file.create_dataset('R_isotrack', data=ak.to_numpy(ak.concatenate(R_isotrack)), compression='gzip')\n",
    "    h5_file.create_dataset('d0_leadtrack_lead', data=ak.to_numpy(ak.concatenate(d0_leadtrack_lead)), compression='gzip')\n",
    "    h5_file.create_dataset('d0_leadtrack_subl', data=ak.to_numpy(ak.concatenate(d0_leadtrack_subl)), compression='gzip')\n",
    "    h5_file.create_dataset('f_core_lead', data=ak.to_numpy(ak.concatenate(f_core_lead)), compression='gzip')\n",
    "    h5_file.create_dataset('f_core_subl', data=ak.to_numpy(ak.concatenate(f_core_subl)), compression='gzip')\n",
    "    h5_file.create_dataset('f_subjet_subl', data=ak.to_numpy(ak.concatenate(f_subjet_subl)), compression='gzip')\n",
    "    h5_file.create_dataset('f_subjets', data=ak.to_numpy(ak.concatenate(f_subjets)), compression='gzip')\n",
    "    h5_file.create_dataset('f_isotracks', data=ak.to_numpy(ak.concatenate(f_isotracks)), compression='gzip')\n",
    "    h5_file.create_dataset('m_core_lead', data=ak.to_numpy(ak.concatenate(m_core_lead)), compression='gzip')\n",
    "    h5_file.create_dataset('m_core_subl', data=ak.to_numpy(ak.concatenate(m_core_subl)), compression='gzip')\n",
    "    h5_file.create_dataset('m_tracks_lead', data=ak.to_numpy(ak.concatenate(m_tracks_lead)), compression='gzip')\n",
    "    h5_file.create_dataset('m_tracks_subl', data=ak.to_numpy(ak.concatenate(m_tracks_subl)), compression='gzip')\n",
    "    h5_file.create_dataset('n_track', data=ak.to_numpy(ak.concatenate(n_track)), compression='gzip')\n",
    "    h5_file.create_dataset('event_weight', data=ak.to_numpy(ak.concatenate(event_weight)/ak.sum(event_weight_sum)), compression='gzip')\n",
    "    # Close the H5 file\n",
    "    h5_file.close()"
   ]
  },
  {
   "cell_type": "code",
   "execution_count": null,
   "id": "f2e28a3d",
   "metadata": {},
   "outputs": [],
   "source": []
  }
 ],
 "metadata": {
  "kernelspec": {
   "display_name": "Python 3",
   "language": "python",
   "name": "python3"
  },
  "language_info": {
   "codemirror_mode": {
    "name": "ipython",
    "version": 3
   },
   "file_extension": ".py",
   "mimetype": "text/x-python",
   "name": "python",
   "nbconvert_exporter": "python",
   "pygments_lexer": "ipython3",
   "version": "3.9.12"
  }
 },
 "nbformat": 4,
 "nbformat_minor": 5
}
