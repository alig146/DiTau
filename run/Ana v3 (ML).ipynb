{
 "cells": [
  {
   "cell_type": "code",
   "execution_count": 2,
   "id": "1f73fe7b",
   "metadata": {},
   "outputs": [
    {
     "name": "stdout",
     "output_type": "stream",
     "text": [
      "Welcome to JupyROOT 6.30/04\n"
     ]
    }
   ],
   "source": [
    "import uproot, ROOT, glob, os, random, time, vector\n",
    "import matplotlib.pyplot as plt\n",
    "import numpy as np\n",
    "import awkward as ak\n",
    "from sklearn.metrics import roc_curve, roc_auc_score, auc\n",
    "from tqdm import tqdm\n",
    "import pandas as pd\n",
    "from xgboost import XGBClassifier\n",
    "import seaborn as sns\n",
    "from sklearn.metrics import roc_curve, roc_auc_score, auc, accuracy_score\n",
    "from sklearn.model_selection import train_test_split\n",
    "from xgboost import XGBClassifier\n",
    "from sklearn.model_selection import RandomizedSearchCV, train_test_split\n",
    "\n",
    "# Set up plot defaults\n",
    "import matplotlib as mpl\n",
    "mpl.rcParams['figure.figsize'] = 12.0,8.0  # Roughly 11 cm wde by 8 cm high\n",
    "mpl.rcParams['font.size'] = 14.0 # Use 14 point font\n",
    "sns.set(style=\"whitegrid\")\n",
    "\n",
    "path = '/eos/atlas/unpledged/group-tokyo/users/shhirose/HttRun3/boost_ntuples/V04/mc/ditau_hh/mc20e/nom/'\n",
    "vbfh_path = [path+'user.shhirose.Httbst_b4.mc20_13TeV.346190.PoPy8_NNPDF30_VBFH125_ttl13l7.PHYS.e7259_s3681_r13145_p5855.smPre_w_0_HS/user.*.root',\n",
    "path+'user.shhirose.Httbst_b4.mc20_13TeV.346191.PoPy8_NNPDF30_VBFH125_ttlm15hp20.PHYS.e7259_s3681_r13145_p5855.smPre_w_0_HS/user.*.root',\n",
    "path+'user.shhirose.Httbst_b4.mc20_13TeV.346192.PoPy8_NNPDF30_VBFH125_ttlp15hm20.PHYS.e7259_s3681_r13145_p5855.smPre_w_0_HS/user.*.root',\n",
    "path+'user.shhirose.Httbst_b4.mc20_13TeV.346193.PoPy8_NNPDF30_VBFH125_tth30h20.PHYS.e7259_s3681_r13145_p5855.smPre_w_0_HS/user.*.root']\n",
    "vbfh_xs_num = [346190, 346191, 346192, 346193]\n",
    "             \n",
    "ggh_path = [path+'user.shhirose.Httbst_b4.mc20_13TeV.345120.PoPy8_NNLO_30_ggH125_ttl13l7.PHYS.e5814_s3681_r13145_p5855.smPre_w_0_HS/user.*.root',\n",
    "path+'user.shhirose.Httbst_b4.mc20_13TeV.345121.PoPy8_NNLO_30_ggH125_ttlm15hp20.PHYS.e5814_s3681_r13145_p5855.smPre_w_0_HS/user.*.root',\n",
    "path+'user.shhirose.Httbst_b4.mc20_13TeV.345122.PoPy8_NNLO_30_ggH125_ttlp15hm20.PHYS.e5814_s3681_r13145_p5855.smPre_w_0_HS/user.*.root',\n",
    "path+'user.shhirose.Httbst_b4.mc20_13TeV.345123.PoPy8_NNLO_30_ggH125_tth30h20.PHYS.e5814_s3681_r13145_p5855.smPre_w_0_HS/user.*.root']\n",
    "ggh_xs_num = [345120, 345121, 345122, 345123]\n",
    "\n",
    "vv_path = [path+'user.shhirose.Httbst_b4.mc20_13TeV.700488.Sh_2211_WlvWqq.PHYS.e8338_s3681_r13145_p5855.smPre_w_0_HS/user.*.root',\n",
    "path+'user.shhirose.Httbst_b4.mc20_13TeV.700489.Sh_2211_WlvZqq.PHYS.e8338_s3681_r13145_p5855.smPre_w_0_HS/user.*.root',\n",
    "path+'user.shhirose.Httbst_b4.mc20_13TeV.700491.Sh_2211_WqqZvv.PHYS.e8338_s3681_r13145_p5855.smPre_w_0_HS/user.*.root',\n",
    "path+'user.shhirose.Httbst_b4.mc20_13TeV.700492.Sh_2211_WqqZll.PHYS.e8338_s3681_r13145_p5855.smPre_w_0_HS/user.*.root',\n",
    "path+'user.shhirose.Httbst_b4.mc20_13TeV.700493.Sh_2211_ZqqZll.PHYS.e8338_s3681_r13145_p5855.smPre_w_0_HS/user.*.root',\n",
    "path+'user.shhirose.Httbst_b4.mc20_13TeV.700495.Sh_2211_ZqqZvv.PHYS.e8338_s3681_r13145_p5855.smPre_w_0_HS/user.*.root',\n",
    "path+'user.shhirose.Httbst_b4.mc20_13TeV.700600.Sh_2212_llll.PHYS.e8433_s3681_r13145_p5855.smPre_w_0_HS/user.*.root',\n",
    "path+'user.shhirose.Httbst_b4.mc20_13TeV.700601.Sh_2212_lllv.PHYS.e8433_s3681_r13145_p5855.smPre_w_0_HS/user.*.root',\n",
    "path+'user.shhirose.Httbst_b4.mc20_13TeV.700602.Sh_2212_llvv_os.PHYS.e8433_s3681_r13145_p5855.smPre_w_0_HS/user.*.root',\n",
    "path+'user.shhirose.Httbst_b4.mc20_13TeV.700603.Sh_2212_llvv_ss.PHYS.e8433_s3681_r13145_p5855.smPre_w_0_HS/user.*.root',\n",
    "path+'user.shhirose.Httbst_b4.mc20_13TeV.700604.Sh_2212_lvvv.PHYS.e8433_s3681_r13145_p5855.smPre_w_0_HS/user.*.root',\n",
    "path+'user.shhirose.Httbst_b4.mc20_13TeV.700605.Sh_2212_vvvv.PHYS.e8433_s3681_r13145_p5855.smPre_w_0_HS/user.*.root']\n",
    "vv_xs_num = [700488, 700489, 700491, 700492, 700493, 700495, 700600, 700601, 700602, 700603, 700604, 700605]\n",
    "\n",
    "ztt_path = [path+'user.shhirose.Httbst_b4.mc20_13TeV.700792.Sh_2214_Ztt_maxHTpT_BF.PHYS.e8527_s3681_r13145_p5855.smPre_w_0_HS/user.*.root',\n",
    "path+'user.shhirose.Httbst_b4.mc20_13TeV.700793.Sh_2214_Ztt_maxHTpT_CFBV.PHYS.e8527_s3681_r13145_p5855.smPre_w_0_HS/user.*.root',\n",
    "path+'user.shhirose.Httbst_b4.mc20_13TeV.700794.Sh_2214_Ztt_maxHTpT_CVBV.PHYS.e8527_s3681_r13145_p5855.smPre_w_0_HS/user.*.root']\n",
    "ztt_xs_num = [700792, 700793, 700794]"
   ]
  },
  {
   "cell_type": "code",
   "execution_count": 4,
   "id": "bfd1c148",
   "metadata": {},
   "outputs": [],
   "source": [
    "def getXS(dsid):\n",
    "    xs_file = \"/cvmfs/atlas.cern.ch/repo/sw/database/GroupData/dev/PMGTools/PMGxsecDB_mc16.txt\"\n",
    "    try:\n",
    "        with open(xs_file, \"r\") as f:\n",
    "            for line in f:\n",
    "                columns = line.split()\n",
    "                if columns[0] == str(dsid):\n",
    "                    return float(columns[2])*float(columns[3])*float(columns[4])\n",
    "        print( \"Couldn't find cross section for dsid\", dsid, \"so setting to 1.\")\n",
    "    except IOError:\n",
    "        print(\"Cross section file not accessible on cvmfs.\", dsid, \" XS setting to 1.\")\n",
    "    return 1\n",
    "\n",
    "def xs(List):\n",
    "    return [getXS(i) for i in List]\n",
    "\n",
    "vbfh_xs_num = [346190, 346191, 346192, 346193]\n",
    "ggh_xs_num = [345120, 345121, 345122, 345123]\n",
    "vv_xs_num = [700488, 700489, 700491, 700492, 700493, 700495, 700600, 700601, 700602, 700603, 700604, 700605]\n",
    "ztt_xs_num = [700792, 700793, 700794]\n",
    "\n",
    "vbfh_xs = xs(vbfh_xs_num)\n",
    "ggh_xs = xs(ggh_xs_num)\n",
    "vv_xs = xs(vv_xs_num)\n",
    "ztt_xs = xs(ztt_xs_num)"
   ]
  },
  {
   "cell_type": "code",
   "execution_count": 5,
   "id": "3eb49322",
   "metadata": {},
   "outputs": [
    {
     "data": {
      "text/plain": [
       "['HLT_j420',\n",
       " 'HLT_j420_a10t_lcw_jes_35smcINF_L1J100',\n",
       " 'HLT_j420_a10t_lcw_jes_35smcINF_L1SC111',\n",
       " 'HTXS_Higgs_eta',\n",
       " 'HTXS_Higgs_pt',\n",
       " 'HTXS_Njets_pTjet25',\n",
       " 'HTXS_Njets_pTjet30',\n",
       " 'HTXS_Stage0_Category',\n",
       " 'HTXS_Stage1_2_Category_pTjet25GeV',\n",
       " 'HTXS_Stage1_2_Category_pTjet30GeV',\n",
       " 'HTXS_Stage1_2_Fine_Category_pTjet25GeV',\n",
       " 'HTXS_Stage1_2_Fine_Category_pTjet30GeV',\n",
       " 'HTXS_Stage1_Category_pTjet25GeV',\n",
       " 'HTXS_Stage1_Category_pTjet30GeV',\n",
       " 'HTXS_errorMode',\n",
       " 'HTXS_prodMode',\n",
       " 'NOMINAL_pileup_combined_weight',\n",
       " 'NOMINAL_pileup_random_lb_number',\n",
       " 'NOMINAL_pileup_random_run_number',\n",
       " 'PRW_DATASF_1down_pileup_combined_weight',\n",
       " 'PRW_DATASF_1up_pileup_combined_weight',\n",
       " 'beamSpotWeight',\n",
       " 'boson_0',\n",
       " 'boson_0_classifierParticleOrigin',\n",
       " 'boson_0_classifierParticleType',\n",
       " 'boson_0_mother_pdgId',\n",
       " 'boson_0_mother_status',\n",
       " 'boson_0_origin',\n",
       " 'boson_0_p4',\n",
       " 'boson_0_pdgId',\n",
       " 'boson_0_pz',\n",
       " 'boson_0_q',\n",
       " 'boson_0_status',\n",
       " 'boson_0_type',\n",
       " 'channel_index',\n",
       " 'ditau_obj_IsTruthHadronic',\n",
       " 'ditau_obj_IsTruthMatched',\n",
       " 'ditau_obj_R_jet',\n",
       " 'ditau_obj_R_subjet',\n",
       " 'ditau_obj_Rr_core',\n",
       " 'ditau_obj_bdt_score',\n",
       " 'ditau_obj_charge',\n",
       " 'ditau_obj_leadsubjet_charge',\n",
       " 'ditau_obj_leadsubjet_n_core_tracks',\n",
       " 'ditau_obj_leadsubjet_p4',\n",
       " 'ditau_obj_nSubjets',\n",
       " 'ditau_obj_n_iso_tracks',\n",
       " 'ditau_obj_n_tracks',\n",
       " 'ditau_obj_p4',\n",
       " 'ditau_obj_subjets_dR',\n",
       " 'ditau_obj_subleadsubjet_charge',\n",
       " 'ditau_obj_subleadsubjet_n_core_tracks',\n",
       " 'ditau_obj_subleadsubjet_p4',\n",
       " 'ditau_obj_tauJetVtxFraction',\n",
       " 'ditau_obj_truth_leadTau_p4',\n",
       " 'ditau_obj_truth_p4',\n",
       " 'ditau_obj_truth_subleadTau_p4',\n",
       " 'event_clean_EC_TightBad',\n",
       " 'event_is_bad_batman',\n",
       " 'event_number',\n",
       " 'is_pass_resolved',\n",
       " 'jets',\n",
       " 'jets_Bottom_DL1_score',\n",
       " 'jets_Charm_DL1_score',\n",
       " 'jets_DL1dv01_FixedCutBEff_70_weight',\n",
       " 'jets_Light_DL1_score',\n",
       " 'jets_b_tag_quantile',\n",
       " 'jets_b_tag_score',\n",
       " 'jets_b_tagged_DL1dv01_FixedCutBEff_70',\n",
       " 'jets_fjvt',\n",
       " 'jets_flavorlabel',\n",
       " 'jets_flavorlabel_cone',\n",
       " 'jets_flavorlabel_part',\n",
       " 'jets_is_Jvt_HS',\n",
       " 'jets_jvt',\n",
       " 'jets_origin',\n",
       " 'jets_p4',\n",
       " 'jets_q',\n",
       " 'jets_type',\n",
       " 'jets_width',\n",
       " 'mc_channel_number',\n",
       " 'n_actual_int',\n",
       " 'n_actual_int_cor',\n",
       " 'n_avg_int',\n",
       " 'n_avg_int_cor',\n",
       " 'n_bjets_DL1dv01_FixedCutBEff_70',\n",
       " 'n_ditaus',\n",
       " 'n_electrons',\n",
       " 'n_jets',\n",
       " 'n_jets_30',\n",
       " 'n_jets_40',\n",
       " 'n_jets_mc_hs',\n",
       " 'n_muons',\n",
       " 'n_photons',\n",
       " 'n_pvx',\n",
       " 'n_taus',\n",
       " 'n_taus_rnn_loose',\n",
       " 'n_taus_rnn_medium',\n",
       " 'n_taus_rnn_tight',\n",
       " 'n_taus_rnn_veryloose',\n",
       " 'n_truth_gluon_jets',\n",
       " 'n_truth_jets',\n",
       " 'n_truth_jets_pt20_eta45',\n",
       " 'n_truth_quark_jets',\n",
       " 'n_vx',\n",
       " 'run_number',\n",
       " 'theory_weights_alphaS_down',\n",
       " 'theory_weights_alphaS_up',\n",
       " 'theory_weights_mur_muf_weight_0',\n",
       " 'theory_weights_mur_muf_weight_1',\n",
       " 'theory_weights_mur_muf_weight_2',\n",
       " 'theory_weights_mur_muf_weight_3',\n",
       " 'theory_weights_mur_muf_weight_4',\n",
       " 'theory_weights_mur_muf_weight_5',\n",
       " 'theory_weights_mur_muf_weight_6',\n",
       " 'theory_weights_mur_muf_weight_7',\n",
       " 'theory_weights_nominal',\n",
       " 'theory_weights_pdf_signal_weight_0',\n",
       " 'theory_weights_pdf_signal_weight_1',\n",
       " 'theory_weights_pdf_signal_weight_10',\n",
       " 'theory_weights_pdf_signal_weight_11',\n",
       " 'theory_weights_pdf_signal_weight_12',\n",
       " 'theory_weights_pdf_signal_weight_13',\n",
       " 'theory_weights_pdf_signal_weight_14',\n",
       " 'theory_weights_pdf_signal_weight_15',\n",
       " 'theory_weights_pdf_signal_weight_16',\n",
       " 'theory_weights_pdf_signal_weight_17',\n",
       " 'theory_weights_pdf_signal_weight_18',\n",
       " 'theory_weights_pdf_signal_weight_19',\n",
       " 'theory_weights_pdf_signal_weight_2',\n",
       " 'theory_weights_pdf_signal_weight_20',\n",
       " 'theory_weights_pdf_signal_weight_21',\n",
       " 'theory_weights_pdf_signal_weight_22',\n",
       " 'theory_weights_pdf_signal_weight_23',\n",
       " 'theory_weights_pdf_signal_weight_24',\n",
       " 'theory_weights_pdf_signal_weight_25',\n",
       " 'theory_weights_pdf_signal_weight_26',\n",
       " 'theory_weights_pdf_signal_weight_27',\n",
       " 'theory_weights_pdf_signal_weight_28',\n",
       " 'theory_weights_pdf_signal_weight_29',\n",
       " 'theory_weights_pdf_signal_weight_3',\n",
       " 'theory_weights_pdf_signal_weight_4',\n",
       " 'theory_weights_pdf_signal_weight_5',\n",
       " 'theory_weights_pdf_signal_weight_6',\n",
       " 'theory_weights_pdf_signal_weight_7',\n",
       " 'theory_weights_pdf_signal_weight_8',\n",
       " 'theory_weights_pdf_signal_weight_9',\n",
       " 'theory_weights_qcd_weight_0',\n",
       " 'theory_weights_qcd_weight_1',\n",
       " 'theory_weights_qcd_weight_10',\n",
       " 'theory_weights_qcd_weight_2',\n",
       " 'theory_weights_qcd_weight_3',\n",
       " 'theory_weights_qcd_weight_4',\n",
       " 'theory_weights_qcd_weight_5',\n",
       " 'theory_weights_qcd_weight_6',\n",
       " 'theory_weights_qcd_weight_7',\n",
       " 'theory_weights_qcd_weight_8',\n",
       " 'theory_weights_qcd_weight_9',\n",
       " 'truth_passedVBFFilter',\n",
       " 'weight_mc']"
      ]
     },
     "execution_count": 5,
     "metadata": {},
     "output_type": "execute_result"
    }
   ],
   "source": [
    "List = glob.glob(os.path.join(vbfh_path[0]))\n",
    "f = uproot.open(List[0])\n",
    "f.keys()\n",
    "f['NOMINAL'].keys()"
   ]
  },
  {
   "cell_type": "markdown",
   "id": "c2b9badd",
   "metadata": {},
   "source": [
    "Ten variables are used as input to the NN: pT of the two leptons and leading\n",
    "jet, p\n",
    "miss\n",
    "T\n",
    ", mass and pT of the Higgs boson reconstructed from the τ candidates and ~p\n",
    "miss\n",
    "T\n",
    ", ST\n",
    "(defined as the scalar sum of the pT of all jets and leptons in the events), transverse mass of the\n",
    "4\n",
    "lepton and ~p\n",
    "miss\n",
    "T\n",
    ", value of the MVA isolation of the closest boosted τh\n",
    "candidate to the muon\n",
    "(electron) in the µτh\n",
    "and eµ (eτh\n",
    "and eµ) channels, and di-τ mass."
   ]
  },
  {
   "cell_type": "code",
   "execution_count": 7,
   "id": "0ea5dbd2",
   "metadata": {},
   "outputs": [],
   "source": [
    "branches = \\\n",
    "['HLT_j420',\n",
    " 'HLT_j420_a10t_lcw_jes_35smcINF_L1J100',\n",
    " 'HLT_j420_a10t_lcw_jes_35smcINF_L1SC111',\n",
    " 'boson_0_p4',\n",
    " 'ditau_obj_IsTruthHadronic',\n",
    " 'ditau_obj_IsTruthMatched',\n",
    "#  'ditau_obj_R_jet',\n",
    "#  'ditau_obj_R_subjet',\n",
    "#  'ditau_obj_Rr_core',\n",
    " 'ditau_obj_bdt_score',\n",
    " 'ditau_obj_charge',\n",
    " 'ditau_obj_leadsubjet_charge',\n",
    " 'ditau_obj_leadsubjet_n_core_tracks',\n",
    " 'ditau_obj_leadsubjet_p4',\n",
    " 'ditau_obj_nSubjets',\n",
    " 'ditau_obj_n_iso_tracks',\n",
    " 'ditau_obj_n_tracks',\n",
    "#  'ditau_obj_p4',\n",
    " 'ditau_obj_subjets_dR',\n",
    " 'ditau_obj_subleadsubjet_charge',\n",
    " 'ditau_obj_subleadsubjet_n_core_tracks',\n",
    " 'ditau_obj_subleadsubjet_p4',\n",
    " 'ditau_obj_tauJetVtxFraction',\n",
    " 'jets_p4',\n",
    "#  'ditau_obj_truth_leadTau_p4',\n",
    "#  'ditau_obj_truth_p4',\n",
    "#  'ditau_obj_truth_subleadTau_p4',\n",
    " 'event_number',\n",
    " 'weight_mc']"
   ]
  },
  {
   "cell_type": "code",
   "execution_count": 9,
   "id": "1ffd3a98",
   "metadata": {},
   "outputs": [
    {
     "name": "stdout",
     "output_type": "stream",
     "text": [
      "processed:  /eos/atlas/unpledged/group-tokyo/users/shhirose/HttRun3/boost_ntuples/V04/mc/ditau_hh/mc20e/nom/user.shhirose.Httbst_b4.mc20_13TeV.346190.PoPy8_NNPDF30_VBFH125_ttl13l7.PHYS.e7259_s3681_r13145_p5855.smPre_w_0_HS/user.shhirose.36940915._000001.HSM_common.root time spent 0.194 s\n",
      "processed:  /eos/atlas/unpledged/group-tokyo/users/shhirose/HttRun3/boost_ntuples/V04/mc/ditau_hh/mc20e/nom/user.shhirose.Httbst_b4.mc20_13TeV.346191.PoPy8_NNPDF30_VBFH125_ttlm15hp20.PHYS.e7259_s3681_r13145_p5855.smPre_w_0_HS/user.shhirose.36940916._000001.HSM_common.root time spent 0.362 s\n",
      "processed:  /eos/atlas/unpledged/group-tokyo/users/shhirose/HttRun3/boost_ntuples/V04/mc/ditau_hh/mc20e/nom/user.shhirose.Httbst_b4.mc20_13TeV.346192.PoPy8_NNPDF30_VBFH125_ttlp15hm20.PHYS.e7259_s3681_r13145_p5855.smPre_w_0_HS/user.shhirose.36940917._000001.HSM_common.root time spent 0.2092 s\n",
      "processed:  /eos/atlas/unpledged/group-tokyo/users/shhirose/HttRun3/boost_ntuples/V04/mc/ditau_hh/mc20e/nom/user.shhirose.Httbst_b4.mc20_13TeV.346193.PoPy8_NNPDF30_VBFH125_tth30h20.PHYS.e7259_s3681_r13145_p5855.smPre_w_0_HS/user.shhirose.36940918._000001.HSM_common.root time spent 0.726 s\n",
      "processed:  /eos/atlas/unpledged/group-tokyo/users/shhirose/HttRun3/boost_ntuples/V04/mc/ditau_hh/mc20e/nom/user.shhirose.Httbst_b4.mc20_13TeV.345120.PoPy8_NNLO_30_ggH125_ttl13l7.PHYS.e5814_s3681_r13145_p5855.smPre_w_0_HS/user.shhirose.36940911._000003.HSM_common.root time spent 0.9307 s\n",
      "processed:  /eos/atlas/unpledged/group-tokyo/users/shhirose/HttRun3/boost_ntuples/V04/mc/ditau_hh/mc20e/nom/user.shhirose.Httbst_b4.mc20_13TeV.345121.PoPy8_NNLO_30_ggH125_ttlm15hp20.PHYS.e5814_s3681_r13145_p5855.smPre_w_0_HS/user.shhirose.36940912._000002.HSM_common.root time spent 0.6008 s\n",
      "processed:  /eos/atlas/unpledged/group-tokyo/users/shhirose/HttRun3/boost_ntuples/V04/mc/ditau_hh/mc20e/nom/user.shhirose.Httbst_b4.mc20_13TeV.345122.PoPy8_NNLO_30_ggH125_ttlp15hm20.PHYS.e5814_s3681_r13145_p5855.smPre_w_0_HS/user.shhirose.36940913._000002.HSM_common.root time spent 0.4562 s\n",
      "processed:  /eos/atlas/unpledged/group-tokyo/users/shhirose/HttRun3/boost_ntuples/V04/mc/ditau_hh/mc20e/nom/user.shhirose.Httbst_b4.mc20_13TeV.345123.PoPy8_NNLO_30_ggH125_tth30h20.PHYS.e5814_s3681_r13145_p5855.smPre_w_0_HS/user.shhirose.36940914._000003.HSM_common.root time spent 1.6009 s\n",
      "processed:  /eos/atlas/unpledged/group-tokyo/users/shhirose/HttRun3/boost_ntuples/V04/mc/ditau_hh/mc20e/nom/user.shhirose.Httbst_b4.mc20_13TeV.700488.Sh_2211_WlvWqq.PHYS.e8338_s3681_r13145_p5855.smPre_w_0_HS/user.shhirose.37035342._000002.HSM_common.root time spent 28.4149 s\n",
      "processed:  /eos/atlas/unpledged/group-tokyo/users/shhirose/HttRun3/boost_ntuples/V04/mc/ditau_hh/mc20e/nom/user.shhirose.Httbst_b4.mc20_13TeV.700489.Sh_2211_WlvZqq.PHYS.e8338_s3681_r13145_p5855.smPre_w_0_HS/user.shhirose.37035343._000003.HSM_common.root time spent 23.7747 s\n",
      "processed:  /eos/atlas/unpledged/group-tokyo/users/shhirose/HttRun3/boost_ntuples/V04/mc/ditau_hh/mc20e/nom/user.shhirose.Httbst_b4.mc20_13TeV.700491.Sh_2211_WqqZvv.PHYS.e8338_s3681_r13145_p5855.smPre_w_0_HS/user.shhirose.37035344._000002.HSM_common.root time spent 50.9241 s\n",
      "processed:  /eos/atlas/unpledged/group-tokyo/users/shhirose/HttRun3/boost_ntuples/V04/mc/ditau_hh/mc20e/nom/user.shhirose.Httbst_b4.mc20_13TeV.700492.Sh_2211_WqqZll.PHYS.e8338_s3681_r13145_p5855.smPre_w_0_HS/user.shhirose.37035345._000010.HSM_common.root time spent 15.4672 s\n",
      "processed:  /eos/atlas/unpledged/group-tokyo/users/shhirose/HttRun3/boost_ntuples/V04/mc/ditau_hh/mc20e/nom/user.shhirose.Httbst_b4.mc20_13TeV.700493.Sh_2211_ZqqZll.PHYS.e8338_s3681_r13145_p5855.smPre_w_0_HS/user.shhirose.37035346._000001.HSM_common.root time spent 4.6598 s\n",
      "processed:  /eos/atlas/unpledged/group-tokyo/users/shhirose/HttRun3/boost_ntuples/V04/mc/ditau_hh/mc20e/nom/user.shhirose.Httbst_b4.mc20_13TeV.700495.Sh_2211_ZqqZvv.PHYS.e8338_s3681_r13145_p5855.smPre_w_0_HS/user.shhirose.37035347._000006.HSM_common.root time spent 15.9956 s\n",
      "processed:  /eos/atlas/unpledged/group-tokyo/users/shhirose/HttRun3/boost_ntuples/V04/mc/ditau_hh/mc20e/nom/user.shhirose.Httbst_b4.mc20_13TeV.700600.Sh_2212_llll.PHYS.e8433_s3681_r13145_p5855.smPre_w_0_HS/user.shhirose.37035348._000010.HSM_common.root time spent 12.1916 s\n",
      "processed:  /eos/atlas/unpledged/group-tokyo/users/shhirose/HttRun3/boost_ntuples/V04/mc/ditau_hh/mc20e/nom/user.shhirose.Httbst_b4.mc20_13TeV.700601.Sh_2212_lllv.PHYS.e8433_s3681_r13145_p5855.smPre_w_0_HS/user.shhirose.37035349._000006.HSM_common.root time spent 11.431 s\n",
      "processed:  /eos/atlas/unpledged/group-tokyo/users/shhirose/HttRun3/boost_ntuples/V04/mc/ditau_hh/mc20e/nom/user.shhirose.Httbst_b4.mc20_13TeV.700602.Sh_2212_llvv_os.PHYS.e8433_s3681_r13145_p5855.smPre_w_0_HS/user.shhirose.37035350._000003.HSM_common.root time spent 8.7014 s\n",
      "processed:  /eos/atlas/unpledged/group-tokyo/users/shhirose/HttRun3/boost_ntuples/V04/mc/ditau_hh/mc20e/nom/user.shhirose.Httbst_b4.mc20_13TeV.700603.Sh_2212_llvv_ss.PHYS.e8433_s3681_r13145_p5855.smPre_w_0_HS/user.shhirose.37035351._000001.HSM_common.root time spent 3.9786 s\n",
      "processed:  /eos/atlas/unpledged/group-tokyo/users/shhirose/HttRun3/boost_ntuples/V04/mc/ditau_hh/mc20e/nom/user.shhirose.Httbst_b4.mc20_13TeV.700604.Sh_2212_lvvv.PHYS.e8433_s3681_r13145_p5855.smPre_w_0_HS/user.shhirose.37035352._000001.HSM_common.root time spent 8.2386 s\n",
      "processed:  /eos/atlas/unpledged/group-tokyo/users/shhirose/HttRun3/boost_ntuples/V04/mc/ditau_hh/mc20e/nom/user.shhirose.Httbst_b4.mc20_13TeV.700605.Sh_2212_vvvv.PHYS.e8433_s3681_r13145_p5855.smPre_w_0_HS/user.shhirose.37035353._000001.HSM_common.root time spent 5.1124 s\n",
      "processed:  /eos/atlas/unpledged/group-tokyo/users/shhirose/HttRun3/boost_ntuples/V04/mc/ditau_hh/mc20e/nom/user.shhirose.Httbst_b4.mc20_13TeV.700792.Sh_2214_Ztt_maxHTpT_BF.PHYS.e8527_s3681_r13145_p5855.smPre_w_0_HS/user.shhirose.36940919._000011.HSM_common.root time spent 88.3647 s\n",
      "processed:  /eos/atlas/unpledged/group-tokyo/users/shhirose/HttRun3/boost_ntuples/V04/mc/ditau_hh/mc20e/nom/user.shhirose.Httbst_b4.mc20_13TeV.700793.Sh_2214_Ztt_maxHTpT_CFBV.PHYS.e8527_s3681_r13145_p5855.smPre_w_0_HS/user.shhirose.36940920._000010.HSM_common.root time spent 144.0341 s\n",
      "processed:  /eos/atlas/unpledged/group-tokyo/users/shhirose/HttRun3/boost_ntuples/V04/mc/ditau_hh/mc20e/nom/user.shhirose.Httbst_b4.mc20_13TeV.700794.Sh_2214_Ztt_maxHTpT_CVBV.PHYS.e8527_s3681_r13145_p5855.smPre_w_0_HS/user.shhirose.36940921._000036.HSM_common.root time spent 610.6329 s\n"
     ]
    }
   ],
   "source": [
    "def read_root(file_paths):\n",
    "    out = []\n",
    "    for index in range(len(file_paths)):\n",
    "        l1 = glob.glob(os.path.join(file_paths[index]))\n",
    "        s = time.time()\n",
    "        for i in range(len(l1)):\n",
    "            f_1 = uproot.open(l1[i]+':NOMINAL')\n",
    "            events = f_1.arrays(branches, library='ak')\n",
    "            out = ak.concatenate((events, out))\n",
    "        print(\"processed: \", l1[i], \"time spent\", round(time.time()-s, 4), 's')\n",
    "    return out\n",
    "\n",
    "vbfh = read_root(vbfh_path)\n",
    "ggh = read_root(ggh_path)\n",
    "vv = read_root(vv_path)\n",
    "ztt = read_root(ztt_path)"
   ]
  },
  {
   "cell_type": "code",
   "execution_count": 10,
   "id": "52c2bc00",
   "metadata": {},
   "outputs": [],
   "source": [
    "def Cut(t):\n",
    "    cut = ak.where((t['ditau_obj_nSubjets'] >= 2) &\n",
    "                   (t['HLT_j420'] + t['HLT_j420_a10t_lcw_jes_35smcINF_L1J100'] + t['HLT_j420_a10t_lcw_jes_35smcINF_L1SC111'] > 0) &\n",
    "                   (t['ditau_obj_leadsubjet_charge'] * t['ditau_obj_subleadsubjet_charge'] == -1) &\n",
    "                   (t['ditau_obj_n_tracks']-t['ditau_obj_leadsubjet_n_core_tracks']-t['ditau_obj_subleadsubjet_n_core_tracks'] == 0) &\n",
    "                   ((t['ditau_obj_leadsubjet_n_core_tracks']==1) | (t['ditau_obj_leadsubjet_n_core_tracks']==3)) &\n",
    "                   ((t['ditau_obj_subleadsubjet_n_core_tracks']==1) | (t['ditau_obj_subleadsubjet_n_core_tracks']==3)))\n",
    "\n",
    "    return t[cut]"
   ]
  },
  {
   "cell_type": "code",
   "execution_count": 11,
   "id": "a74100b1",
   "metadata": {},
   "outputs": [],
   "source": [
    "ggh_cut = Cut(ggh)\n",
    "vbfh_cut = Cut(vbfh)\n",
    "vv_cut = Cut(vv)\n",
    "ztt_cut = Cut(ztt)"
   ]
  },
  {
   "cell_type": "code",
   "execution_count": 25,
   "id": "20604e9d",
   "metadata": {},
   "outputs": [],
   "source": [
    "def Printcut(t):\n",
    "    print(len(ak.where((t['ditau_obj_nSubjets'] >= 2))[0]))\n",
    "    print(len(ak.where((t['ditau_obj_nSubjets'] >= 2) &\n",
    "                   (t['HLT_j420'] + t['HLT_j420_a10t_lcw_jes_35smcINF_L1J100'] + t['HLT_j420_a10t_lcw_jes_35smcINF_L1SC111'] > 0))[0]))\n",
    "    print(len(ak.where((t['ditau_obj_nSubjets'] >= 2) &\n",
    "           (t['HLT_j420'] + t['HLT_j420_a10t_lcw_jes_35smcINF_L1J100'] + t['HLT_j420_a10t_lcw_jes_35smcINF_L1SC111'] > 0) &\n",
    "            (t['ditau_obj_leadsubjet_charge'] * t['ditau_obj_subleadsubjet_charge'] == -1))[0]))\n",
    "    print(len(ak.where((t['ditau_obj_nSubjets'] >= 2) &\n",
    "               (t['HLT_j420'] + t['HLT_j420_a10t_lcw_jes_35smcINF_L1J100'] + t['HLT_j420_a10t_lcw_jes_35smcINF_L1SC111'] > 0) &\n",
    "                (t['ditau_obj_leadsubjet_charge'] * t['ditau_obj_subleadsubjet_charge'] == -1) & \n",
    "                 (t['ditau_obj_n_tracks']-t['ditau_obj_leadsubjet_n_core_tracks']-t['ditau_obj_subleadsubjet_n_core_tracks'] == 0))[0]))\n",
    "    print(len(ak.where((t['ditau_obj_nSubjets'] >= 2) &\n",
    "                   (t['HLT_j420'] + t['HLT_j420_a10t_lcw_jes_35smcINF_L1J100'] + t['HLT_j420_a10t_lcw_jes_35smcINF_L1SC111'] > 0) &\n",
    "                   (t['ditau_obj_leadsubjet_charge'] * t['ditau_obj_subleadsubjet_charge'] == -1) &\n",
    "                   (t['ditau_obj_n_tracks']-t['ditau_obj_leadsubjet_n_core_tracks']-t['ditau_obj_subleadsubjet_n_core_tracks'] == 0) &\n",
    "                   ((t['ditau_obj_leadsubjet_n_core_tracks']==1) | (t['ditau_obj_leadsubjet_n_core_tracks']==3)) &\n",
    "                   ((t['ditau_obj_subleadsubjet_n_core_tracks']==1) | (t['ditau_obj_subleadsubjet_n_core_tracks']==3)))[0]))"
   ]
  },
  {
   "cell_type": "code",
   "execution_count": 31,
   "id": "064a60ff",
   "metadata": {},
   "outputs": [
    {
     "name": "stdout",
     "output_type": "stream",
     "text": [
      "22852463\n",
      "8994590\n",
      "1001671\n",
      "174634\n",
      "130012\n"
     ]
    }
   ],
   "source": [
    "Printcut(ztt)"
   ]
  },
  {
   "cell_type": "code",
   "execution_count": 68,
   "id": "0342ffb1",
   "metadata": {},
   "outputs": [],
   "source": [
    "def Var(t):\n",
    "    '''\n",
    "    return 'leadsubjet_pT', 'subleadsubjet_pT', 'higgs_m', 'higgs_pT',\n",
    "    'pT_miss', 'ditau_m', 'leadsubjet_eta', 'subleadsubjet_eta',\n",
    "    'leadsubjet_phi', 'subleadsubjet_phi',\n",
    "    'collinear_mass'\n",
    "    '''\n",
    "    leadsubjet_p4 = vector.obj(pt=t['ditau_obj_leadsubjet_p4'].fP.fX,\n",
    "                           eta=t['ditau_obj_leadsubjet_p4'].fP.fY,\n",
    "                           phi=t['ditau_obj_leadsubjet_p4'].fP.fZ,\n",
    "                           energy=t['ditau_obj_leadsubjet_p4'].fE)\n",
    "    \n",
    "    subleadsubjet_p4 = vector.obj(pt=t['ditau_obj_subleadsubjet_p4'].fP.fX,\n",
    "                           eta=t['ditau_obj_subleadsubjet_p4'].fP.fY,\n",
    "                           phi=t['ditau_obj_subleadsubjet_p4'].fP.fZ,\n",
    "                           energy=t['ditau_obj_subleadsubjet_p4'].fE)\n",
    "    \n",
    "    higgs_p4 = vector.obj(pt=t['boson_0_p4'].fP.fX,\n",
    "                          eta=t['boson_0_p4'].fP.fY,\n",
    "                          phi=t['boson_0_p4'].fP.fZ,\n",
    "                          energy=t['boson_0_p4'].fE)\n",
    "    \n",
    "    pT_miss = -ak.sum(t['jets_p4'].fP.fX, axis=-1)\n",
    "    ditau_m = (leadsubjet_p4 + subleadsubjet_p4).mass\n",
    "    \n",
    "#     x_lead = leadsubjet_p4.pt / (leadsubjet_p4.pt+pT_miss)\n",
    "#     x_sublead = subleadsubjet_p4.pt / (subleadsubjet_p4.pt+pT_miss)\n",
    "#     collinear_mass = ditau_m / np.sqrt(x_lead*x_sublead)\n",
    "    \n",
    "    return [leadsubjet_p4.pt, subleadsubjet_p4.pt, #higgs_p4.mass, higgs_p4.pt, \\\n",
    "            pT_miss, ditau_m, leadsubjet_p4.eta, subleadsubjet_p4.eta, \\\n",
    "            leadsubjet_p4.phi, subleadsubjet_p4.phi]\n",
    "           \n",
    "    "
   ]
  },
  {
   "cell_type": "code",
   "execution_count": 63,
   "id": "ae2cbdee",
   "metadata": {},
   "outputs": [
    {
     "data": {
      "text/plain": [
       "<Array [152, 100, 10.1, ... 66.7, 68.5, 154] type='7111 * float64'>"
      ]
     },
     "execution_count": 63,
     "metadata": {},
     "output_type": "execute_result"
    }
   ],
   "source": [
    "vv_cut['ditau_obj_subleadsubjet_p4'].fP.fX"
   ]
  },
  {
   "cell_type": "code",
   "execution_count": 65,
   "id": "dde48dc0",
   "metadata": {},
   "outputs": [
    {
     "data": {
      "text/plain": [
       "<Array [152, 100, 10.1, ... 66.7, 68.5, 154] type='7111 * float64'>"
      ]
     },
     "execution_count": 65,
     "metadata": {},
     "output_type": "execute_result"
    }
   ],
   "source": [
    "vv_plot[1]"
   ]
  },
  {
   "cell_type": "code",
   "execution_count": 69,
   "id": "e5c370ca",
   "metadata": {},
   "outputs": [],
   "source": [
    "ggh_plot = Var(ggh_cut)\n",
    "vbfh_plot = Var(vbfh_cut)\n",
    "vv_plot = Var(vv_cut)\n",
    "ztt_plot = Var(ztt_cut)"
   ]
  },
  {
   "cell_type": "code",
   "execution_count": 60,
   "id": "e65a19ae",
   "metadata": {},
   "outputs": [
    {
     "data": {
      "text/plain": [
       "-inf"
      ]
     },
     "execution_count": 60,
     "metadata": {},
     "output_type": "execute_result"
    }
   ],
   "source": [
    "min(ggh_plot[2]), min(ggh_plot[2])"
   ]
  },
  {
   "cell_type": "code",
   "execution_count": 71,
   "id": "bde80740",
   "metadata": {},
   "outputs": [
    {
     "name": "stdout",
     "output_type": "stream",
     "text": [
      "Start Plot: leadsubjet_pT\n",
      "Start Plot: subleadsubjet_pT\n",
      "Start Plot: pT_miss\n",
      "Start Plot: ditau_m\n",
      "Start Plot: leadsubjet_eta\n",
      "Start Plot: subleadsubjet_eta\n",
      "Start Plot: leadsubjet_phi\n",
      "Start Plot: subleadsubjet_phi\n"
     ]
    },
    {
     "data": {
      "image/png": "[encoded data removed]",
      "text/plain": [
       "<Figure size 2160x2016 with 8 Axes>"
      ]
     },
     "metadata": {
      "needs_background": "light"
     },
     "output_type": "display_data"
    }
   ],
   "source": [
    "plot_var = [\n",
    "    'leadsubjet_pT', 'subleadsubjet_pT', #'higgs_m', 'higgs_pT',\n",
    "    'pT_miss', 'ditau_m', 'leadsubjet_eta', 'subleadsubjet_eta',\n",
    "    'leadsubjet_phi', 'subleadsubjet_phi'\n",
    "#     'collinear_mass'\n",
    "]\n",
    "\n",
    "plt.figure(figsize=(30, 28))\n",
    "def hist(variable, plot_num):\n",
    "    print(\"Start Plot:\", variable)\n",
    "    plt.subplot(5, 5, plot_num+1)\n",
    "    bin = 50\n",
    "    plt.hist(ggh_plot[i], bins=bin, histtype='step', linewidth=1, label=f'ggH μ:{np.mean(ggh_plot[i]):.2f}, σ:{np.std(ggh_plot[i]):.2f}')\n",
    "    plt.hist(vbfh_plot[i], bins=bin, histtype='step', linewidth=1, label=f'VBFH μ:{np.mean(vbfh_plot[i]):.2f}, σ:{np.std(vbfh_plot[i]):.2f}')\n",
    "    plt.hist(vv_plot[i], bins=bin, histtype='step', linewidth=1, label=f'VV μ:{np.mean(vv_plot[i]):.2f}, σ:{np.std(vv_plot[i]):.2f}')\n",
    "    plt.hist(ztt_plot[i], bins=bin, histtype='step', linewidth=1, label=f'Ztt μ:{np.mean(ztt_plot[i]):.2f}, σ:{np.std(ztt_plot[i]):.2f}')\n",
    "    plt.xlabel(variable)\n",
    "    #plt.ylabel(\"Number of Events (scaled)\")\n",
    "    #plt.title(xlabel)\n",
    "    plt.yscale('log')\n",
    "    plt.legend()\n",
    "    plt.grid(True)\n",
    "\n",
    "for i, label in enumerate(plot_var, 0):\n",
    "    hist(label, i)"
   ]
  },
  {
   "cell_type": "code",
   "execution_count": null,
   "id": "9e0ebcf3",
   "metadata": {},
   "outputs": [],
   "source": [
    "plt.figure(figsize=(30, 28))\n",
    "def hist(variable, plot_num):\n",
    "    print(\"Start Plot:\", variable)\n",
    "    plt.subplot(5, 5, plot_num)\n",
    "    bin = 50\n",
    "    bkg_tmp = combine(variable, bkg=True)\n",
    "    plt.hist(bkg_tmp, bins=bin, histtype='step', linewidth=1, density=True, label=f'qcd μ:{np.mean(bkg_tmp):.2f}, σ:{np.std(bkg_tmp):.2f}')\n",
    "    signal_tmp = combine(variable, signal=True)\n",
    "    plt.hist(signal_tmp, bins=bin, histtype='step', linewidth=1, density=True, label=f'signal μ:{np.mean(signal_tmp):.2f}, σ:{np.std(signal_tmp):.2f}')\n",
    "    plt.xlabel(variable)\n",
    "    #plt.ylabel(\"Number of Events (scaled)\")\n",
    "    #plt.title(xlabel)\n",
    "    plt.yscale('log')\n",
    "    plt.legend()\n",
    "    plt.grid(True)\n",
    "\n",
    "for i, label in enumerate(plot_var, 1):\n",
    "    hist(label, i)"
   ]
  },
  {
   "cell_type": "code",
   "execution_count": null,
   "id": "96a2e998",
   "metadata": {},
   "outputs": [],
   "source": [
    "plt.figure(figsize=(30, 28))\n",
    "def hist(variable, plot_num):\n",
    "    print(\"Start Plot:\", variable)\n",
    "    plt.subplot(5, 5, plot_num)\n",
    "    bin = 50\n",
    "    bkg_tmp = combine(variable, bkg=True)\n",
    "    plt.hist(bkg_tmp, bins=bin, histtype='step', linewidth=1, density=True, label=f'qcd μ:{np.mean(bkg_tmp):.2f}, σ:{np.std(bkg_tmp):.2f}')\n",
    "    signal_tmp = combine(variable, signal=True)\n",
    "    plt.hist(signal_tmp, bins=bin, histtype='step', linewidth=1, density=True, label=f'signal μ:{np.mean(signal_tmp):.2f}, σ:{np.std(signal_tmp):.2f}')\n",
    "    #plt.hist(bkg[variable], bins=bin, histtype='step', linewidth=1, label=f'qcd μ:{np.mean(bkg[variable]):.2f}, σ:{np.std(bkg[variable]):.2f}')\n",
    "    #plt.hist(signal[variable], bins=bin, histtype='step', linewidth=1, label=f'signal μ:{np.mean(signal[variable]):.2f}, σ:{np.std(signal[variable]):.2f}')\n",
    "    plt.xlabel(variable)\n",
    "    #plt.ylabel(\"Number of Events (scaled)\")\n",
    "    #plt.title(xlabel)\n",
    "    plt.yscale('log')\n",
    "    plt.legend()\n",
    "    plt.grid(True)\n",
    "\n",
    "for i, label in enumerate(plot_var, 1):\n",
    "    hist(label, i)"
   ]
  },
  {
   "cell_type": "code",
   "execution_count": null,
   "id": "ee2ff3d8",
   "metadata": {},
   "outputs": [],
   "source": []
  }
 ],
 "metadata": {
  "@webio": {
   "lastCommId": null,
   "lastKernelId": null
  },
  "kernelspec": {
   "display_name": "Python 3",
   "language": "python",
   "name": "python3"
  },
  "language_info": {
   "codemirror_mode": {
    "name": "ipython",
    "version": 3
   },
   "file_extension": ".py",
   "mimetype": "text/x-python",
   "name": "python",
   "nbconvert_exporter": "python",
   "pygments_lexer": "ipython3",
   "version": "3.9.12"
  }
 },
 "nbformat": 4,
 "nbformat_minor": 5
}
